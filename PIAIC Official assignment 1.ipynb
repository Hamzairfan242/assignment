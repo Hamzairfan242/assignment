{
 "cells": [
  {
   "cell_type": "markdown",
   "metadata": {},
   "source": [
    "## 1. Calculate Area of a Circle"
   ]
  },
  {
   "cell_type": "markdown",
   "metadata": {},
   "source": [
    "#### Write a Python program which accepts the radius of a circle from the user and compute the area.\n",
    "###### Program Console Sample Output 1:\n",
    "###### Input Radius: 0.5\n",
    "###### Area of Circle with radius 0.5 is 0.7853981634"
   ]
  },
  {
   "cell_type": "code",
   "execution_count": null,
   "metadata": {},
   "outputs": [],
   "source": [
    "r=float(input(\"Give radius:\" ))"
   ]
  },
  {
   "cell_type": "code",
   "execution_count": null,
   "metadata": {},
   "outputs": [],
   "source": [
    "area = 3.1415926535*r**2"
   ]
  },
  {
   "cell_type": "code",
   "execution_count": null,
   "metadata": {},
   "outputs": [],
   "source": [
    "print(\"The area is \"+ str(area)+\" square unit.\")"
   ]
  },
  {
   "cell_type": "markdown",
   "metadata": {},
   "source": [
    "## 2. Check Number either positive, negative or zero"
   ]
  },
  {
   "cell_type": "markdown",
   "metadata": {},
   "source": [
    "#### Write a Python program to check if a number is positive, negative or zero\n",
    "###### Program Console Sample Output 1:\n",
    "###### Enter Number: -1\n",
    "##### Negative Number Entered\n",
    "###### Program Console Sample Output 2:\n",
    "##### Integer: 3\n",
    "##### Positive Number Entered\n",
    "###### Program Console Sample Output 3:\n",
    "##### Integer: 0\n",
    "###### Zero Entered"
   ]
  },
  {
   "cell_type": "code",
   "execution_count": null,
   "metadata": {},
   "outputs": [],
   "source": [
    "x=float(input(\"Enter number: \"))\n",
    "if x==0:\n",
    "    print(\"Number is zero.\")\n",
    "elif x<0:\n",
    "    print (\"Number is negative.\")\n",
    "else:\n",
    "    print(\"Number is Poistive.\")"
   ]
  },
  {
   "cell_type": "code",
   "execution_count": null,
   "metadata": {},
   "outputs": [],
   "source": [
    "x=float(input(\"Enter number: \"))\n",
    "if x==0:\n",
    "    print(\"Number is zero.\")\n",
    "elif x<0:\n",
    "    print (\"Number is negative.\")\n",
    "else:\n",
    "    print(\"Number is Poistive.\")"
   ]
  },
  {
   "cell_type": "code",
   "execution_count": null,
   "metadata": {},
   "outputs": [],
   "source": [
    "x=float(input(\"Enter number: \"))\n",
    "if x==0:\n",
    "    print(\"Number is zero.\")\n",
    "elif x<0:\n",
    "    print (\"Number is negative.\")\n",
    "else:\n",
    "    print(\"Number is Poistive.\")"
   ]
  },
  {
   "cell_type": "markdown",
   "metadata": {},
   "source": [
    "## 3. Divisibility Check of two numbers"
   ]
  },
  {
   "cell_type": "markdown",
   "metadata": {},
   "source": [
    "#### Write a Python program to check whether a number is completely divisible by another number. Accept two integer values form the user\n",
    "##### Program Console Sample Output 1:\n",
    "###### Enter numerator: 4\n",
    "###### Enter Denominator: 2\n",
    "##### Number 4 is Completely divisible by 2\n",
    "###### Program Console Sample Output 2:\n",
    "##### Enter numerator: 7\n",
    "\n",
    "##### Enter Denominator: 4\n",
    "###### Number 7 is not Completely divisible by 4"
   ]
  },
  {
   "cell_type": "code",
   "execution_count": null,
   "metadata": {},
   "outputs": [],
   "source": [
    "num1=int(input(\"give num1 = \"))\n",
    "num2=int(input(\"give num2 = \"))\n",
    "\n",
    "if num1%num2==0:\n",
    "    print(\"Divisible!\")\n",
    "else:\n",
    "    print(\"Not divisible!\")"
   ]
  },
  {
   "cell_type": "code",
   "execution_count": null,
   "metadata": {},
   "outputs": [],
   "source": [
    "num1=int(input(\"give num1 = \"))\n",
    "num2=int(input(\"give num2 = \"))\n",
    "\n",
    "if num1%num2==0:\n",
    "    print(\"Divisible!\")\n",
    "else:\n",
    "    print(\"Not divisible!\")"
   ]
  },
  {
   "cell_type": "markdown",
   "metadata": {},
   "source": [
    "## 4. Calculate Volume of a sphere"
   ]
  },
  {
   "cell_type": "markdown",
   "metadata": {},
   "source": [
    "##### Write a Python program to get the volume of a sphere, please take the radius as input from user"
   ]
  },
  {
   "cell_type": "markdown",
   "metadata": {},
   "source": [
    "##### Program Console Output:\n",
    "##### Enter Radius of Sphere: 1\n",
    "###### Volume of the Sphere with Radius 1 is 4.18"
   ]
  },
  {
   "cell_type": "code",
   "execution_count": null,
   "metadata": {},
   "outputs": [],
   "source": [
    "r=int(input(\"Enter radius: \"))\n",
    "\n",
    "v=(4/3)*3.142*r**3\n",
    "\n",
    "print(\"The volume of sphere is \"+str(v)+\" cubic unit.\")"
   ]
  },
  {
   "cell_type": "markdown",
   "metadata": {},
   "source": [
    "# 5. Copy string n times\n",
    "#### Write a Python program to get a string which is n (non-negative integer) copies of a given string.\n",
    "##### Program Console Output:\n",
    "##### Enter String: Hi\n",
    "###### How many copies of String you need: 4\n",
    "###### 4 Copies of Hi are HiHiHiHi"
   ]
  },
  {
   "cell_type": "code",
   "execution_count": null,
   "metadata": {},
   "outputs": [],
   "source": [
    "s=input(\"enter string = \")\n",
    "n= int(input(\"enter number = \"))\n",
    "def larger_string(s, n):\n",
    "   result = \"\"\n",
    "   for i in range(n):\n",
    "      result = result + str(s)\n",
    "   return result\n",
    "\n",
    "print(str(n )+\" copies of \"+s+\" are \"+larger_string(s, n))"
   ]
  },
  {
   "cell_type": "markdown",
   "metadata": {},
   "source": [
    "## 6. Check if number is Even or Odd\n",
    "### Write a Python program to find whether a given number (accept from the user) is even or odd, print out an appropriate message to the user\n",
    "#### Program Console Output 1:\n",
    "##### Enter Number: 4\n",
    "###### 4 is Even\n",
    "#### Program Console Output 2:\n",
    "##### Enter Number: 9\n",
    "###### 9 is Odd"
   ]
  },
  {
   "cell_type": "code",
   "execution_count": null,
   "metadata": {},
   "outputs": [],
   "source": [
    "a=int(input(\"Enter number: \"))\n",
    "\n",
    "if a%2==0:\n",
    "    print(str(a)+\" is \"+\"Even number.\")\n",
    "else:\n",
    "    print(str(a)+\" is \"+\"Odd number.\")\n"
   ]
  },
  {
   "cell_type": "code",
   "execution_count": null,
   "metadata": {},
   "outputs": [],
   "source": [
    "a=int(input(\"Enter number: \"))\n",
    "\n",
    "if a%2==0:\n",
    "    print(str(a)+\" is \"+\"Even number.\")\n",
    "else:\n",
    "    print(str(a)+\" is \"+\"Odd number.\")\n"
   ]
  },
  {
   "cell_type": "markdown",
   "metadata": {},
   "source": [
    "## 7. Vowel Tester\n",
    "### Write a Python program to test whether a passed letter is a vowel or not\n",
    "#### Program Console Output 1:\n",
    "##### Enter a character: A\n",
    "###### Letter A is Vowel\n",
    "#### Program Console Output 2:\n",
    "##### Enter a character: e\n",
    "###### Letter e is Vowel\n",
    "#### Program Console Output 2:\n",
    "##### Enter a character: N\n",
    "###### Letter N is not Vowel"
   ]
  },
  {
   "cell_type": "code",
   "execution_count": null,
   "metadata": {},
   "outputs": [],
   "source": [
    "c=input(\"Enter a character: \").lower()\n",
    "if c==\"a\" or c==\"e\" or c==\"i\" or c==\"o\" or c==\"u\":\n",
    "    print(\"Letter \"+c+\" is vowel.\")\n",
    "else:\n",
    "    print(\"Letter \"+c+\" is not vowel.\")"
   ]
  },
  {
   "cell_type": "code",
   "execution_count": null,
   "metadata": {},
   "outputs": [],
   "source": [
    "c=input(\"Enter a character: \").lower()\n",
    "if c==\"a\" or c==\"e\" or c==\"i\" or c==\"o\" or c==\"u\":\n",
    "    print(\"Letter \"+c+\" is vowel.\")\n",
    "else:\n",
    "    print(\"Letter \"+c+\" is not vowel.\")"
   ]
  },
  {
   "cell_type": "markdown",
   "metadata": {},
   "source": [
    "## 8. Triangle area\n",
    "### Write a Python program that will accept the base and height of a triangle and compute the area\n",
    "###### Reference:\n",
    "https://www.mathgoodies.com/lessons/vol1/area_triangle"
   ]
  },
  {
   "cell_type": "code",
   "execution_count": null,
   "metadata": {},
   "outputs": [],
   "source": [
    "base=int(input(\"Enter base: \"))\n",
    "height=int(input(\"Enter height: \"))\n",
    "\n",
    "area=0.5*base*height\n",
    "\n",
    "print(\"The area of triangle is \"+str(area)+\" square unit.\")"
   ]
  },
  {
   "cell_type": "markdown",
   "metadata": {},
   "source": [
    "## 9. Calculate Interest\n",
    "### Write a Python program to compute the future value of a specified principal amount, rate of interest, and a number of years\n",
    "#### Program Console Sample 1:\n",
    "##### Please enter principal amount: 10000\n",
    "###### Please Enter Rate of interest in %: 0.1\n",
    "###### Enter number of years for investment: 5\n",
    "###### After 5 years your principal amount 10000 over an interest rate of 0.1 % will be 16105.1"
   ]
  },
  {
   "cell_type": "code",
   "execution_count": null,
   "metadata": {},
   "outputs": [],
   "source": [
    "amt = int(input(\"Please enter principal amount: \"))\n",
    "i = float(input(\"Please enter rate of interest in %: \")) \n",
    "years = int(input(\"Enter number of years for investment: \"))\n",
    "\n",
    "f= amt*((1+(i)) ** years)\n",
    "print(\"After \",years,\" years your principal amount \",amt,\" over an interest rate of \",i,\"% \",\" will be \",f)"
   ]
  },
  {
   "cell_type": "code",
   "execution_count": null,
   "metadata": {},
   "outputs": [],
   "source": []
  },
  {
   "cell_type": "code",
   "execution_count": null,
   "metadata": {},
   "outputs": [],
   "source": []
  },
  {
   "cell_type": "code",
   "execution_count": null,
   "metadata": {},
   "outputs": [],
   "source": []
  },
  {
   "cell_type": "code",
   "execution_count": null,
   "metadata": {},
   "outputs": [],
   "source": []
  },
  {
   "cell_type": "markdown",
   "metadata": {},
   "source": [
    "## 10. Euclidean distance\n",
    "### write a Python program to compute the distance between the points (x1, y1) and (x2, y2).\n",
    "#### Program Console Sample 1:\n",
    "###### Enter Co-ordinate for x1: 2\n",
    "###### Enter Co-ordinate for x2: 4\n",
    "###### Enter Co-ordinate for y1: 4\n",
    "###### Enter Co-ordinate for y2: 4\n",
    "###### Distance between points (2, 4) and (4, 4) is 2"
   ]
  },
  {
   "cell_type": "markdown",
   "metadata": {},
   "source": [
    "###### Reference:\n",
    "https://en.wikipedia.org/wiki/Euclidean_distance"
   ]
  },
  {
   "cell_type": "code",
   "execution_count": null,
   "metadata": {},
   "outputs": [],
   "source": [
    "x1 = int(input(\"Enter Co-ordinate for x1 = \"))\n",
    "x2 = int(input(\"Enter Co-ordinate for x2 = \"))\n",
    "y1 = int(input(\"Enter Co-ordinate for y1 = \"))\n",
    "y2 = int(input(\"Enter Co-ordinate for y2 = \"))\n",
    "d=(((x2-x1)**2)+((y2-y1)**2))**1/2\n",
    "print(f'Distance between points ({x1},{y1}) and ({x2},{y2}) is = {d}')\n"
   ]
  },
  {
   "cell_type": "code",
   "execution_count": null,
   "metadata": {},
   "outputs": [],
   "source": []
  },
  {
   "cell_type": "code",
   "execution_count": null,
   "metadata": {},
   "outputs": [],
   "source": []
  },
  {
   "cell_type": "markdown",
   "metadata": {},
   "source": [
    "## 11. Feet to Centimeter Converter\n",
    "### Write a Python program to convert height in feet to centimetres.\n",
    "##### Program Console Sample 1:\n",
    "###### Enter Height in Feet: 5\n",
    "###### There are 152.4 Cm in 5 ft\n",
    "###### Reference:\n",
    "https://www.rapidtables.com/convert/length/feet-to-cm.html"
   ]
  },
  {
   "cell_type": "code",
   "execution_count": 5,
   "metadata": {},
   "outputs": [
    {
     "name": "stdout",
     "output_type": "stream",
     "text": [
      "Enter Height in Feet : 5\n",
      "There are 152.401853206535 cm in 5.0 ft.\n"
     ]
    }
   ],
   "source": [
    "f=float(input('Enter Height in Feet : '))\n",
    "cm=f/0.032808\n",
    "print(f'There are {cm} cm in {f} ft.')"
   ]
  },
  {
   "cell_type": "code",
   "execution_count": null,
   "metadata": {},
   "outputs": [],
   "source": []
  },
  {
   "cell_type": "code",
   "execution_count": null,
   "metadata": {},
   "outputs": [],
   "source": []
  },
  {
   "cell_type": "code",
   "execution_count": null,
   "metadata": {},
   "outputs": [],
   "source": []
  },
  {
   "cell_type": "markdown",
   "metadata": {},
   "source": [
    "## 12. BMI Calculator\n",
    "### Write a Python program to calculate body mass index\n",
    "##### Program Console Sample 1:\n",
    "###### Enter Height in Cm: 180\n",
    "###### Enter Weight in Kg: 75\n",
    "###### Your BMI is 23.15"
   ]
  },
  {
   "cell_type": "code",
   "execution_count": 3,
   "metadata": {},
   "outputs": [
    {
     "name": "stdout",
     "output_type": "stream",
     "text": [
      "Enter Height in cm: 180\n",
      "Enter weight in kg: 75\n",
      "Your BMI is 23.148148148148145\n"
     ]
    }
   ],
   "source": [
    "h = float(input(\"Enter Height in cm: \"))\n",
    "w = float(input(\"Enter weight in kg: \"))\n",
    "BMI=w/(h/100)**2\n",
    "print(\"Your BMI is\",BMI)"
   ]
  },
  {
   "cell_type": "code",
   "execution_count": null,
   "metadata": {},
   "outputs": [],
   "source": []
  },
  {
   "cell_type": "code",
   "execution_count": null,
   "metadata": {},
   "outputs": [],
   "source": []
  },
  {
   "cell_type": "markdown",
   "metadata": {},
   "source": [
    "## 13. Sum of n Positive Integers\n",
    "### Write a python program to sum of the first n positive integers\n",
    "#### Program Console Sample 1:\n",
    "###### Enter value of n: 5\n",
    "###### Sum of n Positive integers till 5 is 15"
   ]
  },
  {
   "cell_type": "code",
   "execution_count": 7,
   "metadata": {},
   "outputs": [
    {
     "name": "stdout",
     "output_type": "stream",
     "text": [
      "Enter value of n: 5\n",
      "Sum of positive integers till 5 is 15.0.\n"
     ]
    }
   ],
   "source": [
    "n=int(input(\"Enter value of n: \"))\n",
    "s=(n*(n+1))/2\n",
    "print(f'Sum of positive integers till {n} is {s}.')"
   ]
  },
  {
   "cell_type": "code",
   "execution_count": null,
   "metadata": {},
   "outputs": [],
   "source": []
  },
  {
   "cell_type": "code",
   "execution_count": null,
   "metadata": {},
   "outputs": [],
   "source": []
  },
  {
   "cell_type": "markdown",
   "metadata": {},
   "source": [
    "## 14. Digits Sum of a Number\n",
    "### Write a Python program to calculate the sum of the digits in an integer\n",
    "#### Program Console Sample 1:\n",
    "##### Enter a number: 15\n",
    "###### Sum of 1 + 5 is 6\n",
    "#### Program Console Sample 2:\n",
    "##### Enter a number: 1234\n",
    "###### Sum of 1 + 2 + 3 + 4 is 10"
   ]
  },
  {
   "cell_type": "code",
   "execution_count": 25,
   "metadata": {},
   "outputs": [
    {
     "name": "stdout",
     "output_type": "stream",
     "text": [
      "Enter Number to calculate sum : 1234\n",
      "The Sum of 1234 is =  10\n"
     ]
    }
   ],
   "source": [
    "num = int(input(\"Enter Number to calculate sum : \"))\n",
    "a = num //1000\n",
    "b = (num - a*1000)//100\n",
    "c = (num - a*1000 - b*100)//10\n",
    "d = num - a*1000 - b*100 - c*10\n",
    "print(\"The Sum of\",num,\"is = \",a+b+c+d)"
   ]
  },
  {
   "cell_type": "code",
   "execution_count": 26,
   "metadata": {},
   "outputs": [
    {
     "name": "stdout",
     "output_type": "stream",
     "text": [
      "Enter Number to calculate sum : 15\n",
      "The Sum of 15 is =  6\n"
     ]
    }
   ],
   "source": [
    "num = int(input(\"Enter Number to calculate sum : \"))\n",
    "a = num //1000\n",
    "b = (num - a*1000)//100\n",
    "c = (num - a*1000 - b*100)//10\n",
    "d = num - a*1000 - b*100 - c*10\n",
    "print(\"The Sum of\",num,\"is = \",a+b+c+d)"
   ]
  },
  {
   "cell_type": "code",
   "execution_count": null,
   "metadata": {},
   "outputs": [],
   "source": []
  },
  {
   "cell_type": "code",
   "execution_count": null,
   "metadata": {},
   "outputs": [],
   "source": []
  },
  {
   "cell_type": "code",
   "execution_count": null,
   "metadata": {},
   "outputs": [],
   "source": []
  },
  {
   "cell_type": "code",
   "execution_count": null,
   "metadata": {},
   "outputs": [],
   "source": []
  },
  {
   "cell_type": "code",
   "execution_count": null,
   "metadata": {},
   "outputs": [],
   "source": []
  },
  {
   "cell_type": "code",
   "execution_count": null,
   "metadata": {},
   "outputs": [],
   "source": []
  }
 ],
 "metadata": {
  "kernelspec": {
   "display_name": "Python 3",
   "language": "python",
   "name": "python3"
  },
  "language_info": {
   "codemirror_mode": {
    "name": "ipython",
    "version": 3
   },
   "file_extension": ".py",
   "mimetype": "text/x-python",
   "name": "python",
   "nbconvert_exporter": "python",
   "pygments_lexer": "ipython3",
   "version": "3.7.3"
  }
 },
 "nbformat": 4,
 "nbformat_minor": 2
}
